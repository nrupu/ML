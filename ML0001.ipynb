{
  "nbformat": 4,
  "nbformat_minor": 0,
  "metadata": {
    "colab": {
      "provenance": []
    },
    "kernelspec": {
      "name": "python3",
      "display_name": "Python 3"
    },
    "language_info": {
      "name": "python"
    }
  },
  "cells": [
    {
      "cell_type": "code",
      "execution_count": null,
      "metadata": {
        "colab": {
          "base_uri": "https://localhost:8080/"
        },
        "id": "lY2r2fM3Gttw",
        "outputId": "9355171a-d9be-497b-ae9c-3f603a8c8fab"
      },
      "outputs": [
        {
          "output_type": "stream",
          "name": "stdout",
          "text": [
            "Enter the  no:2\n",
            "The no is even\n"
          ]
        }
      ],
      "source": [
        "a=int(input(\"Enter the  no:\"))\n",
        "if a%2==0:\n",
        "  print(\"The no is even\")\n",
        "else :\n",
        "  print(\"The no is odd\")\n",
        "\n",
        "# In Python, you don't declare the type before assigning a value.\n",
        "# You can just assign an integer value directly to a variable.\n",
        "a = 0 # Assigning an initial integer value\n"
      ]
    },
    {
      "cell_type": "code",
      "source": [
        "list1=[\"Apple\",\"Orange\",\"pineapple\"]\n",
        "print(list1)\n",
        "print(len(list1))\n",
        "list1.append(\"Jackfruit\")\n",
        "print(list1)"
      ],
      "metadata": {
        "colab": {
          "base_uri": "https://localhost:8080/"
        },
        "id": "lklk4JDcKVmD",
        "outputId": "0743f9a9-70eb-48ad-c3ea-840d78e09ea0"
      },
      "execution_count": null,
      "outputs": [
        {
          "output_type": "stream",
          "name": "stdout",
          "text": [
            "['Apple', 'Orange', 'pineapple']\n",
            "3\n",
            "['Apple', 'Orange', 'pineapple', 'Jackfruit']\n"
          ]
        }
      ]
    },
    {
      "cell_type": "code",
      "source": [
        "list1.insert(2,\"Apple\")\n",
        "print(list1)"
      ],
      "metadata": {
        "colab": {
          "base_uri": "https://localhost:8080/"
        },
        "id": "65tj4STyLBjA",
        "outputId": "bd8b8c78-4279-4fca-d357-dda1b03a4e13"
      },
      "execution_count": null,
      "outputs": [
        {
          "output_type": "stream",
          "name": "stdout",
          "text": [
            "['Apple', 'Orange', 'Apple', 'Apple', 'pineapple']\n"
          ]
        }
      ]
    },
    {
      "cell_type": "code",
      "source": [
        "list1.insert(3,\"Crow\")\n",
        "print(list1)"
      ],
      "metadata": {
        "colab": {
          "base_uri": "https://localhost:8080/"
        },
        "id": "UCmx7R8ZNCjI",
        "outputId": "7e2f68cb-5ac7-4cb6-f83f-fa7de59600c1"
      },
      "execution_count": null,
      "outputs": [
        {
          "output_type": "stream",
          "name": "stdout",
          "text": [
            "['Apple', 'Orange', 'Mango', 'Crow', 'Mango', 'pineapple', 'Jackfruit']\n"
          ]
        }
      ]
    },
    {
      "cell_type": "code",
      "source": [
        "list1.remove(\"Mango\")\n",
        "print(list1)"
      ],
      "metadata": {
        "colab": {
          "base_uri": "https://localhost:8080/"
        },
        "id": "TDFGHuTeNcez",
        "outputId": "a7dd8602-dc90-424c-ea88-2b3dd627a11d"
      },
      "execution_count": null,
      "outputs": [
        {
          "output_type": "stream",
          "name": "stdout",
          "text": [
            "['Apple', 'Orange', 'Crow', 'pineapple', 'Jackfruit']\n"
          ]
        }
      ]
    },
    {
      "cell_type": "code",
      "source": [
        "list1.pop()\n",
        "#lastelement\n",
        "print(list1)"
      ],
      "metadata": {
        "colab": {
          "base_uri": "https://localhost:8080/"
        },
        "id": "6g6x9fd-NxFv",
        "outputId": "8f32ae32-e93c-46e1-d7c9-25993a731b2f"
      },
      "execution_count": null,
      "outputs": [
        {
          "output_type": "stream",
          "name": "stdout",
          "text": [
            "['Apple', 'Orange', 'Crow', 'pineapple']\n"
          ]
        }
      ]
    },
    {
      "cell_type": "code",
      "source": [
        "list1.pop(2)"
      ],
      "metadata": {
        "colab": {
          "base_uri": "https://localhost:8080/",
          "height": 36
        },
        "id": "CgkyeF8pOAJc",
        "outputId": "ead28886-ad7e-4c7b-bfd9-4a2fde60fe9e"
      },
      "execution_count": null,
      "outputs": [
        {
          "output_type": "execute_result",
          "data": {
            "text/plain": [
              "'Crow'"
            ],
            "application/vnd.google.colaboratory.intrinsic+json": {
              "type": "string"
            }
          },
          "metadata": {},
          "execution_count": 18
        }
      ]
    },
    {
      "cell_type": "code",
      "source": [
        "print(list1)"
      ],
      "metadata": {
        "colab": {
          "base_uri": "https://localhost:8080/"
        },
        "id": "owJLRvNpOIvC",
        "outputId": "52fa7673-8448-4eb6-eddd-8fe21867c44f"
      },
      "execution_count": null,
      "outputs": [
        {
          "output_type": "stream",
          "name": "stdout",
          "text": [
            "['Apple', 'Orange', 'pineapple']\n"
          ]
        }
      ]
    },
    {
      "cell_type": "code",
      "source": [
        "list1.sort()\n",
        "print(list1)\n",
        "#if it is mixed it can't sort"
      ],
      "metadata": {
        "colab": {
          "base_uri": "https://localhost:8080/"
        },
        "id": "2mo0RXEzOL4W",
        "outputId": "af8fdaff-6dc0-499d-8c87-b8167e6d5657"
      },
      "execution_count": null,
      "outputs": [
        {
          "output_type": "stream",
          "name": "stdout",
          "text": [
            "['Apple', 'Apple', 'Apple', 'Orange', 'pineapple']\n"
          ]
        }
      ]
    },
    {
      "cell_type": "code",
      "source": [
        "list1.count(\"Apple\")"
      ],
      "metadata": {
        "colab": {
          "base_uri": "https://localhost:8080/"
        },
        "id": "JQQFnsN8O95h",
        "outputId": "48e8258a-76b7-4de4-dfdc-cd835a01db70"
      },
      "execution_count": null,
      "outputs": [
        {
          "output_type": "execute_result",
          "data": {
            "text/plain": [
              "3"
            ]
          },
          "metadata": {},
          "execution_count": 26
        }
      ]
    },
    {
      "cell_type": "code",
      "source": [
        "#supermarket list milk,egg,butter in b/w tomatos bill 3rd postion Cofee"
      ],
      "metadata": {
        "id": "6HB_We3FPN93"
      },
      "execution_count": null,
      "outputs": []
    },
    {
      "cell_type": "code",
      "source": [
        "supermarket=[\"Milk\",\"egg\",\"butter\"]\n",
        "print(supermarket)"
      ],
      "metadata": {
        "colab": {
          "base_uri": "https://localhost:8080/"
        },
        "id": "QwG6cxJfQIP-",
        "outputId": "cce15b71-2b84-4b43-fedf-46487451d5e3"
      },
      "execution_count": null,
      "outputs": [
        {
          "output_type": "stream",
          "name": "stdout",
          "text": [
            "['Milk', 'egg', 'butter']\n"
          ]
        }
      ]
    },
    {
      "cell_type": "code",
      "source": [
        "supermarket.append(\"Tomato\")\n",
        "print(supermarket)\n",
        "supermarket.remove(\"Cofee\")\n",
        "supermarket.insert(2,\"Cofee\")\n",
        "supermarket.remove(\"Egg\")\n",
        "supermarket.insert(4,\"egg\")"
      ],
      "metadata": {
        "colab": {
          "base_uri": "https://localhost:8080/"
        },
        "id": "smS8FbAqQdh3",
        "outputId": "33d48484-1199-472c-e422-94feca272d55"
      },
      "execution_count": null,
      "outputs": [
        {
          "output_type": "stream",
          "name": "stdout",
          "text": [
            "['egg', 'Cofee', 'butter', 'Egg', 'Tomato', 'Tomato']\n"
          ]
        }
      ]
    },
    {
      "cell_type": "code",
      "source": [
        "\n",
        "supermarket.count(\"egg\")"
      ],
      "metadata": {
        "colab": {
          "base_uri": "https://localhost:8080/"
        },
        "id": "xzaQeEeFQ7k5",
        "outputId": "4cee3864-91ca-4b6b-b6a4-3e453e74283b"
      },
      "execution_count": null,
      "outputs": [
        {
          "output_type": "execute_result",
          "data": {
            "text/plain": [
              "2"
            ]
          },
          "metadata": {},
          "execution_count": 42
        }
      ]
    },
    {
      "cell_type": "code",
      "source": [
        "supermarket.remove(\"Milk\")"
      ],
      "metadata": {
        "id": "G6IBUaZ_RH24"
      },
      "execution_count": null,
      "outputs": []
    },
    {
      "cell_type": "code",
      "source": [
        "supermarket.pop(4)"
      ],
      "metadata": {
        "colab": {
          "base_uri": "https://localhost:8080/",
          "height": 36
        },
        "id": "6h4zlwjlRPYI",
        "outputId": "539ce533-c08d-49e7-ae8c-64f58ac57f5a"
      },
      "execution_count": null,
      "outputs": [
        {
          "output_type": "execute_result",
          "data": {
            "text/plain": [
              "'Tomato'"
            ],
            "application/vnd.google.colaboratory.intrinsic+json": {
              "type": "string"
            }
          },
          "metadata": {},
          "execution_count": 36
        }
      ]
    },
    {
      "cell_type": "code",
      "source": [
        "len(supermarket)"
      ],
      "metadata": {
        "colab": {
          "base_uri": "https://localhost:8080/"
        },
        "id": "oQIXM2FfRS51",
        "outputId": "56451f60-a8b5-41a8-fd0f-98ed7c0b392b"
      },
      "execution_count": null,
      "outputs": [
        {
          "output_type": "execute_result",
          "data": {
            "text/plain": [
              "4"
            ]
          },
          "metadata": {},
          "execution_count": 38
        }
      ]
    },
    {
      "cell_type": "code",
      "source": [
        "a=int(input(\"Enter the No1:\"))\n",
        "b=int(input(\"Enter the No2:\"))\n",
        "c=str(input(\"Enter your operator:\"))\n",
        "\n",
        "if c=='+':\n",
        "  print(a+b)\n",
        "elif c=='-':\n",
        "  print(a-b)\n",
        "elif c=='*':\n",
        "  print(a*b)\n",
        "elif c=='/':\n",
        "  print(a/b)\n",
        "else:\n",
        "  print(\"invaild\")"
      ],
      "metadata": {
        "colab": {
          "base_uri": "https://localhost:8080/"
        },
        "id": "ynQwoXL7XEYQ",
        "outputId": "0f669491-f307-43b0-d48d-271d5f87586d"
      },
      "execution_count": null,
      "outputs": [
        {
          "output_type": "stream",
          "name": "stdout",
          "text": [
            "Enter the No1:5\n",
            "Enter the No2:4\n",
            "Enter your operator:*\n",
            "20\n"
          ]
        }
      ]
    },
    {
      "cell_type": "code",
      "source": [
        "#define function def\n",
        "def add(a,b):\n",
        "  c=a+b\n",
        "  return c"
      ],
      "metadata": {
        "id": "ABjh5hRYZfAJ"
      },
      "execution_count": null,
      "outputs": []
    },
    {
      "cell_type": "code",
      "source": [
        "num1=10\n",
        "num2=20\n",
        "sum=add(num1,num2)\n",
        "print(sum)"
      ],
      "metadata": {
        "colab": {
          "base_uri": "https://localhost:8080/"
        },
        "id": "IMNQj_GFaXcY",
        "outputId": "f786d87a-7abd-42b8-dc45-65159776e63a"
      },
      "execution_count": null,
      "outputs": [
        {
          "output_type": "stream",
          "name": "stdout",
          "text": [
            "30\n"
          ]
        }
      ]
    },
    {
      "cell_type": "code",
      "source": [
        "def sub(a,b):\n",
        "  c=a-b\n",
        "  return c\n",
        "def mul(a,b):\n",
        "  c=a*b\n",
        "  return c\n",
        "def div(a,b):\n",
        "  c=a/b\n",
        "  return c"
      ],
      "metadata": {
        "id": "KYQtuwF-am6E"
      },
      "execution_count": null,
      "outputs": []
    },
    {
      "cell_type": "code",
      "source": [
        "a=int(input(\"Enter the No1:\"))\n",
        "b=int(input(\"Enter the No2:\"))\n",
        "c=str(input(\"Enter your operator:\"))\n",
        "if c=='+':\n",
        "  re=add(a,b)\n",
        "elif c=='-':\n",
        "  re=sub(a,b)\n",
        "elif c=='*':\n",
        "  re=mul(a,b)\n",
        "elif c=='/':\n",
        "  re=div(a,b)\n",
        "\n",
        "print(re)"
      ],
      "metadata": {
        "colab": {
          "base_uri": "https://localhost:8080/"
        },
        "id": "GtEwBJIdbKKh",
        "outputId": "faa42959-e9a8-4b27-a0ba-d0a027b1f259"
      },
      "execution_count": null,
      "outputs": [
        {
          "output_type": "stream",
          "name": "stdout",
          "text": [
            "Enter the No1:6\n",
            "Enter the No2:4\n",
            "Enter your operator:/\n",
            "1.5\n"
          ]
        }
      ]
    },
    {
      "cell_type": "code",
      "source": [
        "#panda\n",
        "import pandas as pd\n",
        "data={\n",
        "    'Name':['Nikhil','Vivek','Sonal'],\n",
        "    'Marks':[95,92,93]\n",
        "}\n",
        "df=pd.DataFrame(data)\n",
        "print(df)\n",
        "print(df.loc[1])"
      ],
      "metadata": {
        "colab": {
          "base_uri": "https://localhost:8080/"
        },
        "id": "6kkpLxlpfK4s",
        "outputId": "a9cd9c27-dc85-43e1-886c-d0805bd063f0"
      },
      "execution_count": null,
      "outputs": [
        {
          "output_type": "stream",
          "name": "stdout",
          "text": [
            "     Name  Marks\n",
            "0  Nikhil     95\n",
            "1   Vivek     92\n",
            "2   Sonal     93\n",
            "Name     Vivek\n",
            "Marks       92\n",
            "Name: 1, dtype: object\n"
          ]
        }
      ]
    },
    {
      "cell_type": "code",
      "source": [
        "print(df.loc[0])"
      ],
      "metadata": {
        "colab": {
          "base_uri": "https://localhost:8080/"
        },
        "id": "rlqJbJ-U2okC",
        "outputId": "0b86e5ff-9546-4bb4-bc95-a4ee14e7c06e"
      },
      "execution_count": null,
      "outputs": [
        {
          "output_type": "stream",
          "name": "stdout",
          "text": [
            "Name     Nikhil\n",
            "Marks        95\n",
            "Name: 0, dtype: object\n"
          ]
        }
      ]
    },
    {
      "cell_type": "code",
      "source": [
        "print(df[df['Marks']>92])"
      ],
      "metadata": {
        "colab": {
          "base_uri": "https://localhost:8080/"
        },
        "id": "rV6n7hFU5oDa",
        "outputId": "a61b1122-9ddf-4959-8286-26ea8b93f7f0"
      },
      "execution_count": null,
      "outputs": [
        {
          "output_type": "stream",
          "name": "stdout",
          "text": [
            "     Name  Marks\n",
            "0  Nikhil     95\n",
            "2   Sonal     93\n"
          ]
        }
      ]
    },
    {
      "cell_type": "code",
      "source": [
        "df['Grade']=['A+','A','A+']\n",
        "print(df)"
      ],
      "metadata": {
        "colab": {
          "base_uri": "https://localhost:8080/"
        },
        "id": "0G1i5NeD6JDd",
        "outputId": "fcc23413-1fef-4683-9803-e8a25e5a4a6e"
      },
      "execution_count": null,
      "outputs": [
        {
          "output_type": "stream",
          "name": "stdout",
          "text": [
            "     Name  Marks Grade\n",
            "0  Nikhil     95    A+\n",
            "1   Vivek     92     A\n",
            "2   Sonal     93    A+\n"
          ]
        }
      ]
    },
    {
      "cell_type": "code",
      "source": [
        "#NumPy\n",
        "import numpy as np\n",
        "a=np.array([1,2,3,4,5])\n",
        "print(a)\n",
        "b=np.array([[1,2],[3,4]])\n",
        "print(b)\n",
        "print(np.sum(b))\n",
        "#transpose\n",
        "print(b.T)\n",
        "print(np.mean(b))"
      ],
      "metadata": {
        "colab": {
          "base_uri": "https://localhost:8080/"
        },
        "id": "x7-uVvLJ7GS_",
        "outputId": "3aa4e014-809a-4923-a9fd-764f63f35ba8"
      },
      "execution_count": null,
      "outputs": [
        {
          "output_type": "stream",
          "name": "stdout",
          "text": [
            "[1 2 3 4 5]\n",
            "[[1 2]\n",
            " [3 4]]\n",
            "10\n",
            "[[1 3]\n",
            " [2 4]]\n",
            "2.5\n"
          ]
        }
      ]
    },
    {
      "cell_type": "code",
      "source": [
        "#matplot\n",
        "#matplot\n",
        "#pypeplot\n",
        "import matplotlib.pyplot as plt\n",
        "plt.bar(df['Name'],df['Marks'],color=['green','red','blue'])\n",
        "plt.title('Student Mark')\n",
        "plt.xlabel('Name')\n",
        "plt.ylabel('Marks')\n",
        "plt.show()\n",
        "plt.pie(df['Marks'],labels= df['Name'])\n",
        "plt.title('Student Marks')\n",
        "plt.show()\n",
        "ages=[21,23,23,28,25,25,25,28,29]\n",
        "plt.hist(ages,color='red')\n",
        "plt.show()"
      ],
      "metadata": {
        "colab": {
          "base_uri": "https://localhost:8080/",
          "height": 1000
        },
        "id": "cgleP_wp7r5M",
        "outputId": "64df9303-0ed7-4c90-8e98-d24c4ef0b563"
      },
      "execution_count": null,
      "outputs": [
        {
          "output_type": "display_data",
          "data": {
            "text/plain": [
              "<Figure size 640x480 with 1 Axes>"
            ],
            "image/png": "[encoded data removed]"
          },
          "metadata": {}
        },
        {
          "output_type": "display_data",
          "data": {
            "text/plain": [
              "<Figure size 640x480 with 1 Axes>"
            ],
            "image/png": "[encoded data removed]"
          },
          "metadata": {}
        },
        {
          "output_type": "display_data",
          "data": {
            "text/plain": [
              "<Figure size 640x480 with 1 Axes>"
            ],
            "image/png": "[encoded data removed]"
          },
          "metadata": {}
        }
      ]
    },
    {
      "cell_type": "code",
      "source": [
        "#list of 5 students"
      ],
      "metadata": {
        "id": "VvKiK06p8ipB"
      },
      "execution_count": null,
      "outputs": []
    },
    {
      "cell_type": "code",
      "source": [
        "\n",
        "Students=['ALice','Bob','Luffy','Law','Sunny']\n",
        "Marks = [90,85,87,75,45]\n",
        "\n",
        "Grade=[]\n",
        "\n",
        "for i in Marks:\n",
        "  if i>=90:\n",
        "    Grade.append('A')\n",
        "  elif i>=80:\n",
        "    Grade.append('B')\n",
        "  elif i>=70:\n",
        "    Grade.append('C')\n",
        "  else :\n",
        "    Grade.append('F')\n",
        "print(Grade)\n",
        "\n",
        "data={\n",
        "    'Name':Students,\n",
        "    'Marks':Marks,\n",
        "    'Grade':Grade\n",
        "}\n",
        "df=pd.DataFrame(data)\n",
        "print(df)\n",
        "\n",
        "print(np.mean(df['Marks']))\n",
        "\n",
        "plt.hist(ages,color='red')\n",
        "plt.show()"
      ],
      "metadata": {
        "colab": {
          "base_uri": "https://localhost:8080/",
          "height": 611
        },
        "id": "Cw4UgI57EFiO",
        "outputId": "a217428c-6fe4-4361-aab4-ba0b84b361da"
      },
      "execution_count": null,
      "outputs": [
        {
          "output_type": "stream",
          "name": "stdout",
          "text": [
            "['A', 'B', 'B', 'C', 'F']\n",
            "    Name  Marks Grade\n",
            "0  ALice     90     A\n",
            "1    Bob     85     B\n",
            "2  Luffy     87     B\n",
            "3    Law     75     C\n",
            "4  Sunny     45     F\n",
            "76.4\n"
          ]
        },
        {
          "output_type": "display_data",
          "data": {
            "text/plain": [
              "<Figure size 640x480 with 1 Axes>"
            ],
            "image/png": "[encoded data removed]"
          },
          "metadata": {}
        }
      ]
    },
    {
      "cell_type": "code",
      "source": [
        "#list of footballteamsand how many goals scored by forwards in one season.find mean,total_goal\n",
        "# infc=18,tfc=24,cfc=35,bfc=32,afc=26,fcg=33\n",
        "# add column St average goal(front 3 note ()"
      ],
      "metadata": {
        "id": "J4Qa7nBUIjJg"
      },
      "execution_count": null,
      "outputs": []
    },
    {
      "cell_type": "code",
      "source": [
        "Names=['Alice','Bob','Luffy','Law','Sunny']\n",
        "Salary=[10000,10000,10000,10000,10000]\n",
        "attendence=[95,85,85,100,95]\n",
        "modisalary=[]\n",
        "for i in range(len(attendence)):\n",
        "  n = 100 - attendence[i]\n",
        "  modisalary.append(Salary[i]*(1-((n/5)*2)/100))\n",
        "print(modisalary)\n",
        "\n",
        "mean=np.mean(modisalary)\n",
        "print(mean)\n",
        "\n",
        "data2={\n",
        "    'Name':Names,\n",
        "    'Salary':Salary,\n",
        "    'attendence':attendence,\n",
        "    'modisalary':modisalary\n",
        "}\n",
        "df=pd.DataFrame(data2)\n",
        "print(df)\n",
        "\n",
        "plt.hist(df['modisalary'],color='red')\n",
        "plt.title('Modified Salary')\n",
        "\n",
        "plt.show()\n"
      ],
      "metadata": {
        "colab": {
          "base_uri": "https://localhost:8080/",
          "height": 591
        },
        "id": "gOBm95zC9aIW",
        "outputId": "5cb9a54a-a7b5-4a60-8651-5abe67f0eb26"
      },
      "execution_count": null,
      "outputs": [
        {
          "output_type": "stream",
          "name": "stdout",
          "text": [
            "[9800.0, 9400.0, 9400.0, 10000.0, 9800.0]\n",
            "9680.0\n",
            "    Name  Salary  attendence  modisalary\n",
            "0  Alice   10000          95      9800.0\n",
            "1    Bob   10000          85      9400.0\n",
            "2  Luffy   10000          85      9400.0\n",
            "3    Law   10000         100     10000.0\n",
            "4  Sunny   10000          95      9800.0\n"
          ]
        },
        {
          "output_type": "display_data",
          "data": {
            "text/plain": [
              "<Figure size 640x480 with 1 Axes>"
            ],
            "image/png": "[encoded data removed]"
          },
          "metadata": {}
        }
      ]
    },
    {
      "cell_type": "code",
      "source": [],
      "metadata": {
        "id": "zV0sumo0_-40"
      },
      "execution_count": null,
      "outputs": []
    }
  ]
}